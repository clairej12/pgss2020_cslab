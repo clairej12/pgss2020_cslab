{
  "nbformat": 4,
  "nbformat_minor": 0,
  "metadata": {
    "colab": {
      "name": "ColorDeterminationClassifiers.ipynb",
      "provenance": [],
      "collapsed_sections": []
    },
    "kernelspec": {
      "name": "python3",
      "display_name": "Python 3"
    }
  },
  "cells": [
    {
      "cell_type": "code",
      "metadata": {
        "id": "Yn_ih38o6bXY",
        "colab_type": "code",
        "colab": {}
      },
      "source": [
        "from google.colab import auth\n",
        "auth.authenticate_user()\n",
        "import gspread\n",
        "from oauth2client.client import GoogleCredentials\n",
        "gc = gspread.authorize(GoogleCredentials.get_application_default())"
      ],
      "execution_count": null,
      "outputs": []
    },
    {
      "cell_type": "code",
      "metadata": {
        "id": "-W9Er56k6w4q",
        "colab_type": "code",
        "colab": {}
      },
      "source": [
        "import pandas as pd\n",
        "wb = gc.open_by_url('https://docs.google.com/spreadsheets/d/1YgjesgjYJh315Kj823ddOlSBEr1bf3AMfDaN3c34_PU/edit?usp=sharing')\n",
        "sheet = wb.worksheet('Sheet1')\n",
        "data = sheet.get_all_values()\n",
        "\n",
        "df = pd.DataFrame(data[1:])\n",
        "df.columns = data[0]"
      ],
      "execution_count": null,
      "outputs": []
    },
    {
      "cell_type": "code",
      "metadata": {
        "id": "NAW4sv0D7GV4",
        "colab_type": "code",
        "colab": {}
      },
      "source": [
        "import numpy as np\n",
        "df[df=='']=np.nan\n",
        "df = df.drop('Red', axis=1)\n",
        "df.dropna(axis=0)\n",
        "df.to_csv('ColorDeterminationSurveyData.csv',index=None)"
      ],
      "execution_count": null,
      "outputs": []
    },
    {
      "cell_type": "markdown",
      "metadata": {
        "id": "eM7aVrJQ7baj",
        "colab_type": "text"
      },
      "source": [
        "#### Read cleaned data back into a pandas dataframe"
      ]
    },
    {
      "cell_type": "code",
      "metadata": {
        "id": "36wLTZSI7h7N",
        "colab_type": "code",
        "colab": {
          "base_uri": "https://localhost:8080/",
          "height": 424
        },
        "outputId": "972c2424-5704-4143-8219-983ccb3f538c"
      },
      "source": [
        "colordata=pd.read_csv('ColorDeterminationSurveyData.csv')\n",
        "colordata"
      ],
      "execution_count": null,
      "outputs": [
        {
          "output_type": "execute_result",
          "data": {
            "text/html": [
              "<div>\n",
              "<style scoped>\n",
              "    .dataframe tbody tr th:only-of-type {\n",
              "        vertical-align: middle;\n",
              "    }\n",
              "\n",
              "    .dataframe tbody tr th {\n",
              "        vertical-align: top;\n",
              "    }\n",
              "\n",
              "    .dataframe thead th {\n",
              "        text-align: right;\n",
              "    }\n",
              "</style>\n",
              "<table border=\"1\" class=\"dataframe\">\n",
              "  <thead>\n",
              "    <tr style=\"text-align: right;\">\n",
              "      <th></th>\n",
              "      <th>Green</th>\n",
              "      <th>Blue</th>\n",
              "      <th>Purple</th>\n",
              "      <th>Date</th>\n",
              "    </tr>\n",
              "  </thead>\n",
              "  <tbody>\n",
              "    <tr>\n",
              "      <th>0</th>\n",
              "      <td>215</td>\n",
              "      <td>84</td>\n",
              "      <td>1</td>\n",
              "      <td>7/14/2020 15:26:36</td>\n",
              "    </tr>\n",
              "    <tr>\n",
              "      <th>1</th>\n",
              "      <td>82</td>\n",
              "      <td>218</td>\n",
              "      <td>0</td>\n",
              "      <td>7/14/2020 15:35:19</td>\n",
              "    </tr>\n",
              "    <tr>\n",
              "      <th>2</th>\n",
              "      <td>253</td>\n",
              "      <td>206</td>\n",
              "      <td>0</td>\n",
              "      <td>7/14/2020 15:44:37</td>\n",
              "    </tr>\n",
              "    <tr>\n",
              "      <th>3</th>\n",
              "      <td>22</td>\n",
              "      <td>86</td>\n",
              "      <td>0</td>\n",
              "      <td>7/14/2020 15:44:55</td>\n",
              "    </tr>\n",
              "    <tr>\n",
              "      <th>4</th>\n",
              "      <td>32</td>\n",
              "      <td>35</td>\n",
              "      <td>0</td>\n",
              "      <td>7/14/2020 15:45:15</td>\n",
              "    </tr>\n",
              "    <tr>\n",
              "      <th>...</th>\n",
              "      <td>...</td>\n",
              "      <td>...</td>\n",
              "      <td>...</td>\n",
              "      <td>...</td>\n",
              "    </tr>\n",
              "    <tr>\n",
              "      <th>409</th>\n",
              "      <td>143</td>\n",
              "      <td>18</td>\n",
              "      <td>0</td>\n",
              "      <td>7/14/2020 15:45:50</td>\n",
              "    </tr>\n",
              "    <tr>\n",
              "      <th>410</th>\n",
              "      <td>198</td>\n",
              "      <td>255</td>\n",
              "      <td>0</td>\n",
              "      <td>7/14/2020 15:46:29</td>\n",
              "    </tr>\n",
              "    <tr>\n",
              "      <th>411</th>\n",
              "      <td>204</td>\n",
              "      <td>122</td>\n",
              "      <td>0</td>\n",
              "      <td>7/14/2020 15:46:53</td>\n",
              "    </tr>\n",
              "    <tr>\n",
              "      <th>412</th>\n",
              "      <td>35</td>\n",
              "      <td>66</td>\n",
              "      <td>0</td>\n",
              "      <td>7/14/2020 15:54:45</td>\n",
              "    </tr>\n",
              "    <tr>\n",
              "      <th>413</th>\n",
              "      <td>1</td>\n",
              "      <td>106</td>\n",
              "      <td>0</td>\n",
              "      <td>7/14/2020 15:57:55</td>\n",
              "    </tr>\n",
              "  </tbody>\n",
              "</table>\n",
              "<p>414 rows × 4 columns</p>\n",
              "</div>"
            ],
            "text/plain": [
              "     Green  Blue  Purple                Date\n",
              "0      215    84       1  7/14/2020 15:26:36\n",
              "1       82   218       0  7/14/2020 15:35:19\n",
              "2      253   206       0  7/14/2020 15:44:37\n",
              "3       22    86       0  7/14/2020 15:44:55\n",
              "4       32    35       0  7/14/2020 15:45:15\n",
              "..     ...   ...     ...                 ...\n",
              "409    143    18       0  7/14/2020 15:45:50\n",
              "410    198   255       0  7/14/2020 15:46:29\n",
              "411    204   122       0  7/14/2020 15:46:53\n",
              "412     35    66       0  7/14/2020 15:54:45\n",
              "413      1   106       0  7/14/2020 15:57:55\n",
              "\n",
              "[414 rows x 4 columns]"
            ]
          },
          "metadata": {
            "tags": []
          },
          "execution_count": 5
        }
      ]
    },
    {
      "cell_type": "markdown",
      "metadata": {
        "id": "X_o9QhO3BVSa",
        "colab_type": "text"
      },
      "source": [
        "#### Sklearn Logistic Regression Model"
      ]
    },
    {
      "cell_type": "code",
      "metadata": {
        "id": "YxB6KhUrAFlN",
        "colab_type": "code",
        "colab": {
          "base_uri": "https://localhost:8080/",
          "height": 35
        },
        "outputId": "c28841fb-f545-498d-ff82-ce382f0646f6"
      },
      "source": [
        "from sklearn.linear_model import LogisticRegression\n",
        "from sklearn import metrics\n",
        "\n",
        "x=colordata[['Green','Blue']]\n",
        "y=colordata['Purple']\n",
        "\n",
        "model = LogisticRegression()\n",
        "model.fit(x,y)\n",
        "\n",
        "y_pred = model.predict([[200,100]])[0]\n",
        "y_pred"
      ],
      "execution_count": null,
      "outputs": [
        {
          "output_type": "execute_result",
          "data": {
            "text/plain": [
              "0"
            ]
          },
          "metadata": {
            "tags": []
          },
          "execution_count": 12
        }
      ]
    },
    {
      "cell_type": "code",
      "metadata": {
        "id": "8vDdpJu1Ahev",
        "colab_type": "code",
        "colab": {
          "base_uri": "https://localhost:8080/",
          "height": 368
        },
        "outputId": "7d649349-e5de-47a1-8148-07d9d32b37ef"
      },
      "source": [
        "y_pred=model.predict(x)\n",
        "y_pred"
      ],
      "execution_count": null,
      "outputs": [
        {
          "output_type": "execute_result",
          "data": {
            "text/plain": [
              "array([0, 0, 0, 0, 0, 0, 0, 0, 0, 0, 0, 0, 0, 0, 0, 0, 1, 0, 0, 0, 0, 0,\n",
              "       0, 1, 0, 0, 0, 0, 0, 0, 0, 0, 0, 0, 0, 0, 0, 0, 0, 0, 0, 0, 0, 0,\n",
              "       0, 0, 0, 0, 0, 0, 0, 0, 0, 0, 0, 0, 0, 0, 0, 0, 0, 0, 0, 0, 0, 0,\n",
              "       0, 0, 0, 0, 0, 0, 0, 0, 0, 1, 0, 0, 1, 0, 0, 1, 0, 0, 0, 0, 0, 0,\n",
              "       0, 0, 0, 0, 0, 0, 0, 0, 0, 0, 0, 0, 0, 0, 0, 0, 0, 0, 0, 0, 0, 0,\n",
              "       0, 0, 0, 0, 0, 0, 0, 0, 1, 0, 0, 0, 0, 0, 0, 0, 0, 0, 0, 0, 0, 0,\n",
              "       0, 0, 0, 0, 0, 0, 0, 0, 0, 0, 0, 1, 0, 0, 0, 0, 0, 0, 0, 0, 0, 0,\n",
              "       0, 0, 0, 0, 0, 0, 0, 0, 0, 0, 0, 0, 0, 0, 0, 0, 0, 0, 0, 0, 0, 0,\n",
              "       0, 0, 0, 0, 1, 0, 0, 0, 0, 0, 0, 0, 0, 0, 0, 0, 0, 0, 0, 0, 0, 0,\n",
              "       0, 0, 0, 0, 0, 0, 0, 0, 0, 0, 0, 0, 0, 0, 0, 0, 0, 0, 0, 0, 0, 0,\n",
              "       0, 0, 0, 0, 0, 0, 0, 0, 0, 0, 0, 0, 0, 0, 0, 0, 0, 0, 0, 0, 0, 0,\n",
              "       0, 0, 0, 0, 0, 0, 0, 0, 0, 0, 0, 0, 0, 0, 0, 0, 0, 0, 0, 0, 0, 0,\n",
              "       0, 0, 0, 0, 0, 0, 1, 0, 0, 0, 0, 0, 1, 0, 0, 0, 0, 0, 0, 0, 0, 0,\n",
              "       0, 0, 0, 0, 0, 0, 0, 0, 0, 0, 0, 0, 0, 0, 0, 0, 0, 0, 0, 0, 0, 0,\n",
              "       0, 0, 0, 0, 0, 0, 0, 0, 0, 0, 0, 0, 0, 0, 0, 0, 0, 0, 0, 0, 1, 0,\n",
              "       0, 0, 0, 0, 0, 0, 0, 0, 0, 0, 0, 0, 0, 0, 0, 0, 0, 0, 0, 0, 0, 0,\n",
              "       0, 1, 0, 0, 0, 0, 0, 0, 0, 0, 0, 0, 0, 0, 0, 0, 0, 0, 1, 1, 0, 0,\n",
              "       0, 0, 0, 0, 0, 0, 0, 0, 0, 0, 0, 0, 0, 0, 1, 0, 0, 1, 0, 0, 0, 0,\n",
              "       0, 0, 0, 0, 0, 0, 0, 0, 0, 0, 0, 0, 0, 0, 0, 0, 0, 0])"
            ]
          },
          "metadata": {
            "tags": []
          },
          "execution_count": 13
        }
      ]
    },
    {
      "cell_type": "code",
      "metadata": {
        "id": "RmxYIACYApNh",
        "colab_type": "code",
        "colab": {
          "base_uri": "https://localhost:8080/",
          "height": 54
        },
        "outputId": "000cadb7-2ceb-4542-e7e5-9dae0621f28b"
      },
      "source": [
        "from sklearn.metrics import confusion_matrix\n",
        "confusionmatrix = confusion_matrix (y, y_pred)\n",
        "confusionmatrix"
      ],
      "execution_count": null,
      "outputs": [
        {
          "output_type": "execute_result",
          "data": {
            "text/plain": [
              "array([[288,  11],\n",
              "       [110,   5]])"
            ]
          },
          "metadata": {
            "tags": []
          },
          "execution_count": 14
        }
      ]
    },
    {
      "cell_type": "markdown",
      "metadata": {
        "id": "I20SClI4BfvC",
        "colab_type": "text"
      },
      "source": [
        "#### Try nonlinear classification (KNN)"
      ]
    },
    {
      "cell_type": "markdown",
      "metadata": {
        "id": "dcyO6QmyCT1_",
        "colab_type": "text"
      },
      "source": [
        "#### Create a new data point to test"
      ]
    },
    {
      "cell_type": "code",
      "metadata": {
        "id": "iIAE8EPUBnYo",
        "colab_type": "code",
        "colab": {
          "base_uri": "https://localhost:8080/",
          "height": 54
        },
        "outputId": "9f9dd680-f37d-43f7-92b5-93696cdf9432"
      },
      "source": [
        "import csv\n",
        "import numpy as np\n",
        "colorScores = []\n",
        "with open('ColorDeterminationSurveyData.csv', 'r') as f:\n",
        "    reader = csv.reader(f)\n",
        "    for row in reader:\n",
        "        colorScores.append(row)\n",
        "f.close()\n",
        "\n",
        "colorScores = colorScores[1:]\n",
        "\n",
        "processedScores=[]\n",
        "for j in range(len(colorScores)):\n",
        "    processedScores.append([])\n",
        "    for i in range(len(colorScores[j])-1):\n",
        "        processedScores[j].append(int(colorScores[j][i]))\n",
        "finalScores = []\n",
        "for row in processedScores:\n",
        "    finalScores.append(np.asarray(row))\n",
        "    \n",
        "# red = int(input('enter the red value: '))\n",
        "green = int(input('enter the green value: '))\n",
        "blue = int(input('enter the blue value: '))\n",
        "\n",
        "    \n",
        "# inputColor = np.asarray([red,green,blue])\n",
        "inputColor = np.asarray([green,blue])\n"
      ],
      "execution_count": null,
      "outputs": [
        {
          "output_type": "stream",
          "text": [
            "enter the green value: 200\n",
            "enter the blue value: 100\n"
          ],
          "name": "stdout"
        }
      ]
    },
    {
      "cell_type": "markdown",
      "metadata": {
        "id": "lOW8-2cTCsgJ",
        "colab_type": "text"
      },
      "source": [
        "#### Compare to historical data and establish similarity metric (this is the KNN)"
      ]
    },
    {
      "cell_type": "code",
      "metadata": {
        "id": "-7xOaJQcCylV",
        "colab_type": "code",
        "colab": {
          "base_uri": "https://localhost:8080/",
          "height": 54
        },
        "outputId": "d45d6a07-d52e-4f58-f490-fe795db8d6b4"
      },
      "source": [
        "k=4\n",
        "\n",
        "distList = []\n",
        "for i in range(len(finalScores)):\n",
        "    dist = np.linalg.norm(inputColor-finalScores[i][0:2])\n",
        "    distList.append(dist)\n",
        "\n",
        "nearestNeighborsList = []\n",
        "for j in range(k):\n",
        "    nearestNeighborsList.append(distList.index(min(distList)))\n",
        "    distList.remove(min(distList))\n",
        "    \n",
        "total = 0\n",
        "for l in range(k):\n",
        "    total = total + finalScores[nearestNeighborsList[l]][2]\n",
        "\n",
        "average = total/k\n",
        "\n",
        "print(average)\n",
        "\n",
        "if average < 0.5:\n",
        "    print(\"probably not purple\")\n",
        "else:\n",
        "    print(\"probably purple\")"
      ],
      "execution_count": null,
      "outputs": [
        {
          "output_type": "stream",
          "text": [
            "0.25\n",
            "probably not purple\n"
          ],
          "name": "stdout"
        }
      ]
    },
    {
      "cell_type": "markdown",
      "metadata": {
        "id": "a3CRgiuQDOye",
        "colab_type": "text"
      },
      "source": [
        "#### Verify"
      ]
    },
    {
      "cell_type": "code",
      "metadata": {
        "id": "YElDLi90DRX7",
        "colab_type": "code",
        "colab": {}
      },
      "source": [
        "from colorsys import hsv_to_rgb\n",
        "from PIL import Image\n",
        "\n",
        "# # Make some RGB values. \n",
        "# # Cycle through hue vertically & saturation horizontally\n",
        "# colors = []\n",
        "# for hue in range(360):\n",
        "#     for sat in range(100):\n",
        "#         # Convert color from HSV to RGB\n",
        "#         rgb = hsv_to_rgb(hue/360, sat/100, 1)\n",
        "#         rgb = [int(0.5 + 255*u) for u in rgb]\n",
        "#         colors.extend(rgb)\n",
        "\n",
        "\n",
        "# # Convert list to bytes\n",
        "# colors = bytes(colors)\n",
        "# img = Image.frombytes('RGB', (100, 360), colors)\n"
      ],
      "execution_count": null,
      "outputs": []
    },
    {
      "cell_type": "code",
      "metadata": {
        "id": "3hG_cao1DTKT",
        "colab_type": "code",
        "colab": {
          "base_uri": "https://localhost:8080/",
          "height": 117
        },
        "outputId": "b6e96222-9bda-477a-f454-e075bc045ed0"
      },
      "source": [
        "colors = []\n",
        "for hue in range(100):\n",
        "    for sat in range(100):\n",
        "        # Convert color from HSV to RGB\n",
        "        # rgb = hsv_to_rgb(hue/360, sat/100, 1)\n",
        "        rgb = [100, inputColor[0], inputColor[1]]\n",
        "        colors.extend(rgb)\n",
        "\n",
        "im = Image.frombytes(\"RGB\", (100, 100), bytes(colors))\n",
        "im"
      ],
      "execution_count": null,
      "outputs": [
        {
          "output_type": "execute_result",
          "data": {
            "image/png": "[encoded data removed]",
            "text/plain": [
              "<PIL.Image.Image image mode=RGB size=100x100 at 0x7FEE26A32B00>"
            ]
          },
          "metadata": {
            "tags": []
          },
          "execution_count": 20
        }
      ]
    }
  ]
}